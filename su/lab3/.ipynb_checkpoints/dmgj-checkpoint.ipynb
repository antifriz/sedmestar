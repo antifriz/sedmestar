{
 "cells": [
  {
   "cell_type": "markdown",
   "metadata": {},
   "source": [
    "Sveučilište u Zagrebu<br>\n",
    "Fakultet elektrotehnike i računarstva\n",
    "\n",
    "# Strojno učenje\n",
    "<a href=\"http://www.fer.unizg.hr/predmet/su\">http://www.fer.unizg.hr/predmet/su</a>\n",
    "\n",
    "Ak. god. 2015./2016.\n",
    "\n",
    "# Laboratorijska vježba 2: Regresija i perceptron\n",
    "\n",
    "(c) 2015 Jan Šnajder\n",
    "\n",
    "*Verzija 0.2*\n",
    "\n",
    "Objavljeno: **10. studenog 2015.**<br>\n",
    "Rok za predaju: **16-20. studenog 2015.**\n"
   ]
  },
  {
   "cell_type": "markdown",
   "metadata": {},
   "source": [
    "## Upute\n",
    "\n",
    "Laboratorijska vježba 2 sastoji se od deset zadataka. U nastavku slijedite upute navedene u ćelijama s tekstom. Rješavanje vježbe svodi se na **dopunjavanje ove bilježnice**: umetanja ćelije ili više njih **ispod** teksta zadatka, pisanja odgovarajućeg koda te evaluiranja ćelija. Odgovore na pitanja **nemojte pisati** u bilježnicu koju ćete demonstrirati asistentu (kako ih pri predaji ne bi samo čitali).\n",
    "\n",
    "Osigurajte da u potpunosti **razumijete** kod koji ste napisali. Kod predaje vježbe, morate biti u stanju na zahtjev asistenta preinačiti i ponovno evaluirati Vaš kod. Nadalje, morate razumjeti teorijske osnove onoga što radite, u okvirima onoga što smo obradili na predavanju. Stoga se nemojte ograničiti samo na to da riješite zadatak, već slobodno eksperimentirajte. To upravo i jest svrha ovih vježbi.\n",
    "\n",
    "Vježbe trebate raditi **samostalno**. Možete se konzultirati s drugima o načelnom načinu rješavanja, ali u konačnici morate sami odraditi vježbu. U protivnome vježba nema smisla."
   ]
  },
  {
   "cell_type": "code",
   "execution_count": 1,
   "metadata": {
    "collapsed": false
   },
   "outputs": [
    {
     "name": "stdout",
     "output_type": "stream",
     "text": [
      "Populating the interactive namespace from numpy and matplotlib\n"
     ]
    }
   ],
   "source": [
    "# Učitaj osnovne biblioteke...\n",
    "import scipy as sp\n",
    "import sklearn\n",
    "%pylab inline"
   ]
  },
  {
   "cell_type": "markdown",
   "metadata": {},
   "source": [
    "## Zadatci"
   ]
  },
  {
   "cell_type": "markdown",
   "metadata": {},
   "source": [
    "### 1. Univarijatna regresija"
   ]
  },
  {
   "cell_type": "markdown",
   "metadata": {},
   "source": [
    "Zadan je skup primjera $\\mathcal{D}=\\{(x^{(i)},y^{(i)})\\}_{i=1}^4 = \\{(0,4),(1,1),(2,2),(4,5)\\}$. Primjere predstavite matrixom $\\mathbf{X}$ dimenzija $N\\times n$ (u ovom slučaju $4\\times 1$) i vektorom oznaka $\\textbf{y}$, dimenzija $N\\times 1$ (u ovom slučaju $4\\times 1$), na sljedeći način:\n"
   ]
  },
  {
   "cell_type": "code",
   "execution_count": 2,
   "metadata": {
    "collapsed": false
   },
   "outputs": [],
   "source": [
    "X = sp.array([[0],[1],[2],[4]])\n",
    "y = sp.array([4,1,2,5])"
   ]
  },
  {
   "cell_type": "markdown",
   "metadata": {},
   "source": [
    "### (a)\n",
    "\n",
    "Proučite funkciju [`PolynomialFeatures`](http://scikit-learn.org/stable/modules/generated/sklearn.preprocessing.PolynomialFeatures.html) iz bilbioteke sklearn i upotrijebite je za generiranje dizajn-matrice $\\mathbf{\\Phi}$ sa $m=n$. Drugim riječima, generirajte dizajn-matricu bez preslikavanja u prostor više dimenzije (samo će svakom primjeru biti dodane *dummy* jedinice).\n"
   ]
  },
  {
   "cell_type": "code",
   "execution_count": 3,
   "metadata": {
    "collapsed": false
   },
   "outputs": [],
   "source": [
    "from sklearn.preprocessing import PolynomialFeatures\n",
    "polyf = PolynomialFeatures(1)\n",
    "dmat = polyf.fit_transform(X)\n",
    "#print dmat"
   ]
  },
  {
   "cell_type": "markdown",
   "metadata": {},
   "source": [
    "### (b)"
   ]
  },
  {
   "cell_type": "markdown",
   "metadata": {},
   "source": [
    "Upoznajte se s modulom [`linalg`](http://docs.scipy.org/doc/numpy/reference/routines.linalg.html). Izračunajte težine $\\mathbf{w}$ modela linearne regresije kao $\\mathbf{w}=(\\mathbf{\\Phi}^\\intercal\\mathbf{\\Phi})^{-1}\\mathbf{\\Phi}^\\intercal\\mathbf{y}$. Zatim se uvjerite da isti rezultat možete dobiti izračunom pseudoinverza $\\mathbf{\\Phi}^+$ dizajn-matrice, tj. $\\mathbf{w}=\\mathbf{\\Phi}^+\\mathbf{y}$, korištenjem funkcije [`pinv`](http://docs.scipy.org/doc/numpy/reference/generated/numpy.linalg.pinv.html)."
   ]
  },
  {
   "cell_type": "code",
   "execution_count": 4,
   "metadata": {
    "collapsed": false
   },
   "outputs": [],
   "source": [
    "from scipy import linalg\n",
    "W1 = linalg.inv(dmat.T.dot(dmat)).dot(dmat.T).dot(y)\n",
    "W2 = linalg.pinv(dmat).dot(y)\n",
    "#print 'W1 = ' + str(W1)\n",
    "#print 'W2 = ' + str(W2)"
   ]
  },
  {
   "cell_type": "markdown",
   "metadata": {},
   "source": [
    "Radi jasnoće, u nastavku je vektor $\\mathbf{x}$ s dodanom *dummy* jedinicom $x_0=1$ označen kao $\\tilde{\\mathbf{x}}$."
   ]
  },
  {
   "cell_type": "markdown",
   "metadata": {},
   "source": [
    "### (c)"
   ]
  },
  {
   "cell_type": "markdown",
   "metadata": {},
   "source": [
    "Prikažite primjere iz $\\mathcal{D}$ i funkciju $h(\\tilde{\\mathbf{x}})=\\mathbf{w}^\\intercal\\tilde{\\mathbf{x}}$. Izračunajte pogrešku učenja prema izrazu $E(h|\\mathcal{D})=\\frac{1}{2}\\sum_{i=1}^N(\\tilde{\\mathbf{x}}^{(i)} - h(\\tilde{\\mathbf{x}}))^2$. Možete koristiti funkciju srednje kvadratne pogreške [`mean_squared_error`]( http://scikit-learn.org/stable/modules/generated/sklearn.metrics.mean_squared_error.html#sklearn.metrics.mean_squared_error) iz modula [`sklearn.metrics`](http://scikit-learn.org/stable/modules/classes.html#module-sklearn.metrics)."
   ]
  },
  {
   "cell_type": "code",
   "execution_count": 5,
   "metadata": {
    "collapsed": false
   },
   "outputs": [
    {
     "data": {
      "text/plain": [
       "[<matplotlib.lines.Line2D at 0x7f4fcb0b1b50>]"
      ]
     },
     "execution_count": 5,
     "metadata": {},
     "output_type": "execute_result"
    },
    {
     "data": {
      "image/png": "[encoded data removed]",
      "text/plain": [
       "<matplotlib.figure.Figure at 0x7f4fcb9dbf50>"
      ]
     },
     "metadata": {},
     "output_type": "display_data"
    }
   ],
   "source": [
    "from sklearn.metrics import mean_squared_error\n",
    "def h(w, X):\n",
    "    return X.dot(w)\n",
    "plt.plot(X, h(W1, dmat))\n",
    "\n",
    "#print 'Error = '\n",
    "#print sklearn.metrics.mean_squared_error(h(W1, dmat), y)"
   ]
  },
  {
   "cell_type": "markdown",
   "metadata": {},
   "source": [
    "**Q:** Gore definirana funkcija pogreške $E(h|\\mathcal{D})$ i funkcija srednje kvadrante pogreške nisu posve identične. U čemu je razlika? Koja je funkcija korisnija u praksi? Zašto?"
   ]
  },
  {
   "cell_type": "markdown",
   "metadata": {},
   "source": [
    "### (d)"
   ]
  },
  {
   "cell_type": "markdown",
   "metadata": {},
   "source": [
    "Uvjerite se da za primjere iz $\\mathcal{D}$ težine $\\mathbf{w}$ ne možemo naći rješavanjem sustava $\\mathbf{w}=\\mathbf{\\Phi}^{-1}\\mathbf{y}$, već da nam doista treba pseudoinverz."
   ]
  },
  {
   "cell_type": "code",
   "execution_count": 6,
   "metadata": {
    "collapsed": false
   },
   "outputs": [
    {
     "ename": "ValueError",
     "evalue": "expected square matrix",
     "output_type": "error",
     "traceback": [
      "\u001b[1;31m---------------------------------------------------------------------------\u001b[0m",
      "\u001b[1;31mValueError\u001b[0m                                Traceback (most recent call last)",
      "\u001b[1;32m<ipython-input-6-4514f297cd17>\u001b[0m in \u001b[0;36m<module>\u001b[1;34m()\u001b[0m\n\u001b[0;32m      1\u001b[0m \u001b[1;31m# Vaše rješenje...\u001b[0m\u001b[1;33m\u001b[0m\u001b[1;33m\u001b[0m\u001b[0m\n\u001b[1;32m----> 2\u001b[1;33m \u001b[0mlinalg\u001b[0m\u001b[1;33m.\u001b[0m\u001b[0minv\u001b[0m\u001b[1;33m(\u001b[0m\u001b[0mdmat\u001b[0m\u001b[1;33m)\u001b[0m\u001b[1;33m.\u001b[0m\u001b[0mdot\u001b[0m\u001b[1;33m(\u001b[0m\u001b[0my\u001b[0m\u001b[1;33m)\u001b[0m\u001b[1;33m\u001b[0m\u001b[0m\n\u001b[0m",
      "\u001b[1;32m/usr/lib/python2.7/site-packages/scipy/linalg/basic.pyc\u001b[0m in \u001b[0;36minv\u001b[1;34m(a, overwrite_a, check_finite)\u001b[0m\n\u001b[0;32m    651\u001b[0m     \u001b[0ma1\u001b[0m \u001b[1;33m=\u001b[0m \u001b[0m_asarray_validated\u001b[0m\u001b[1;33m(\u001b[0m\u001b[0ma\u001b[0m\u001b[1;33m,\u001b[0m \u001b[0mcheck_finite\u001b[0m\u001b[1;33m=\u001b[0m\u001b[0mcheck_finite\u001b[0m\u001b[1;33m)\u001b[0m\u001b[1;33m\u001b[0m\u001b[0m\n\u001b[0;32m    652\u001b[0m     \u001b[1;32mif\u001b[0m \u001b[0mlen\u001b[0m\u001b[1;33m(\u001b[0m\u001b[0ma1\u001b[0m\u001b[1;33m.\u001b[0m\u001b[0mshape\u001b[0m\u001b[1;33m)\u001b[0m \u001b[1;33m!=\u001b[0m \u001b[1;36m2\u001b[0m \u001b[1;32mor\u001b[0m \u001b[0ma1\u001b[0m\u001b[1;33m.\u001b[0m\u001b[0mshape\u001b[0m\u001b[1;33m[\u001b[0m\u001b[1;36m0\u001b[0m\u001b[1;33m]\u001b[0m \u001b[1;33m!=\u001b[0m \u001b[0ma1\u001b[0m\u001b[1;33m.\u001b[0m\u001b[0mshape\u001b[0m\u001b[1;33m[\u001b[0m\u001b[1;36m1\u001b[0m\u001b[1;33m]\u001b[0m\u001b[1;33m:\u001b[0m\u001b[1;33m\u001b[0m\u001b[0m\n\u001b[1;32m--> 653\u001b[1;33m         \u001b[1;32mraise\u001b[0m \u001b[0mValueError\u001b[0m\u001b[1;33m(\u001b[0m\u001b[1;34m'expected square matrix'\u001b[0m\u001b[1;33m)\u001b[0m\u001b[1;33m\u001b[0m\u001b[0m\n\u001b[0m\u001b[0;32m    654\u001b[0m     \u001b[0moverwrite_a\u001b[0m \u001b[1;33m=\u001b[0m \u001b[0moverwrite_a\u001b[0m \u001b[1;32mor\u001b[0m \u001b[0m_datacopied\u001b[0m\u001b[1;33m(\u001b[0m\u001b[0ma1\u001b[0m\u001b[1;33m,\u001b[0m \u001b[0ma\u001b[0m\u001b[1;33m)\u001b[0m\u001b[1;33m\u001b[0m\u001b[0m\n\u001b[0;32m    655\u001b[0m     \u001b[1;31m#XXX: I found no advantage or disadvantage of using finv.\u001b[0m\u001b[1;33m\u001b[0m\u001b[1;33m\u001b[0m\u001b[0m\n",
      "\u001b[1;31mValueError\u001b[0m: expected square matrix"
     ]
    }
   ],
   "source": [
    "# Vaše rješenje...\n",
    "linalg.inv(dmat).dot(y)"
   ]
  },
  {
   "cell_type": "markdown",
   "metadata": {},
   "source": [
    "**Q:** Zašto je to slučaj? Bi li se problem mogao riješiti preslikavanjem primjera u višu dimenziju? Ako da, bi li to uvijek funkcioniralo, neovisno o skupu primjera $\\mathcal{D}$? Pokažite na primjeru."
   ]
  },
  {
   "cell_type": "markdown",
   "metadata": {},
   "source": [
    "### (e) "
   ]
  },
  {
   "cell_type": "markdown",
   "metadata": {},
   "source": [
    "Proučite klasu [`LinearRegression`](http://scikit-learn.org/stable/modules/generated/sklearn.linear_model.LinearRegression.html#sklearn.linear_model.LinearRegression) iz modula [`sklearn.linear_model`](http://scikit-learn.org/stable/modules/classes.html#module-sklearn.linear_model). Uvjerite se da su težine koje izračunava ta funkcija (dostupne pomoću metoda `coef_` i `intercept_`) jednake onima koje ste izračunali gore. Izračunajte predikcije modela (metoda `predict`) i uvjerite se da je pogreška učenja identična onoj koju ste ranije izračunali."
   ]
  },
  {
   "cell_type": "code",
   "execution_count": 7,
   "metadata": {
    "collapsed": false
   },
   "outputs": [
    {
     "name": "stdout",
     "output_type": "stream",
     "text": [
      "[ 0.45714286]\n",
      "2.2\n",
      "Error =\n",
      "2.04285714286\n"
     ]
    }
   ],
   "source": [
    "from sklearn.linear_model import LinearRegression\n",
    "linr = LinearRegression()\n",
    "linr.fit(X, y)\n",
    "print linr.coef_\n",
    "print linr.intercept_\n",
    "\n",
    "print 'Error ='\n",
    "print sklearn.metrics.mean_squared_error(linr.predict(X), y)"
   ]
  },
  {
   "cell_type": "markdown",
   "metadata": {},
   "source": [
    "### 2. Polinomijalna regresija i utjecaj šuma"
   ]
  },
  {
   "cell_type": "markdown",
   "metadata": {},
   "source": [
    "### (a)\n",
    "\n",
    "Razmotrimo sada regresiju na većem broju primjera. Definirajte funkciju `make_labels(X, f, noise=0)` koja uzima matricu neoznačenih primjera $\\mathbf{X}_{N\\times n}$ te generira vektor njihovih oznaka $\\mathbf{y}_{N\\times 1}$. Oznake se generiraju kao $y^{(i)} = f(x^{(i)})+\\mathcal{N}(0,\\sigma^2)$, gdje je $f:\\mathbb{R}^n\\to\\mathbb{R}$ stvarna funkcija koja je generirala podatke (koja nam je u stvarnosti nepoznata), a $\\sigma$ je standardna devijacija Gaussovog šuma, definirana parametrom `noise`. Za generiranje šuma možete koristiti funkciju [`numpy.random.normal`](http://docs.scipy.org/doc/numpy/reference/generated/numpy.random.normal.html). \n",
    "\n",
    "Generirajte skup za učenje od $N=50$ primjera uniformno distribuiranih u intervalu $[-5,5]$ pomoću funkcije $f(x) = 5 + x -2 x^2 -5 x^3$ uz šum  $\\sigma=200$.\n",
    "\n",
    "Prikažite taj skup funkcijom [`scatter`](http://matplotlib.org/api/pyplot_api.html#matplotlib.pyplot.scatter)."
   ]
  },
  {
   "cell_type": "code",
   "execution_count": 8,
   "metadata": {
    "collapsed": false
   },
   "outputs": [
    {
     "data": {
      "text/plain": [
       "<matplotlib.collections.PathCollection at 0x7f4fcafd7810>"
      ]
     },
     "execution_count": 8,
     "metadata": {},
     "output_type": "execute_result"
    },
    {
     "data": {
      "image/png": "[encoded data removed]",
      "text/plain": [
       "<matplotlib.figure.Figure at 0x7f4fcb099810>"
      ]
     },
     "metadata": {},
     "output_type": "display_data"
    }
   ],
   "source": [
    "from numpy.random import normal\n",
    "def make_labels(X, f, noise=0):\n",
    "    s = np.random.normal(0, noise, len(X))\n",
    "    y = []\n",
    "    for i in range(0,len(X)):\n",
    "        y.append(f(X[i])+s[i])\n",
    "    return numpy.array(y)\n",
    "\n",
    "f = lambda x: 5 + x - 2*x**2 - 5*x**3\n",
    "X = []\n",
    "for i in range(0,50):\n",
    "    X.append([random.uniform(-5, 5)])\n",
    "X.sort()\n",
    "    \n",
    "X = array(X)\n",
    "y = make_labels(X, f, 200)\n",
    "plt.scatter(X, y)"
   ]
  },
  {
   "cell_type": "markdown",
   "metadata": {},
   "source": [
    "### (b)"
   ]
  },
  {
   "cell_type": "markdown",
   "metadata": {},
   "source": [
    "Trenirajte model polinomijalne regresije stupnja $d=3$. Na istom grafikonu prikažite naučeni model $h(\\mathbf{x})=\\mathbf{w}^\\intercal\\tilde{\\mathbf{x}}$ i primjere za učenje. Izračunajte pogrešku učenja modela."
   ]
  },
  {
   "cell_type": "code",
   "execution_count": 9,
   "metadata": {
    "collapsed": false
   },
   "outputs": [
    {
     "name": "stdout",
     "output_type": "stream",
     "text": [
      "Error =\n",
      "35428.236105\n"
     ]
    },
    {
     "data": {
      "text/plain": [
       "[<matplotlib.lines.Line2D at 0x7f4fd15ba690>]"
      ]
     },
     "execution_count": 9,
     "metadata": {},
     "output_type": "execute_result"
    },
    {
     "data": {
      "image/png": "[encoded data removed]",
      "text/plain": [
       "<matplotlib.figure.Figure at 0x7f4fd1eae810>"
      ]
     },
     "metadata": {},
     "output_type": "display_data"
    }
   ],
   "source": [
    "d = 3\n",
    "plt.scatter(X, y)\n",
    "\n",
    "polyf = PolynomialFeatures(d)\n",
    "dmat = polyf.fit_transform(X)\n",
    "W = linalg.pinv(dmat).dot(y)\n",
    "\n",
    "out = h(W, dmat)\n",
    "print 'Error ='\n",
    "print sklearn.metrics.mean_squared_error(out, y)\n",
    "plt.plot(X, out, c='r')"
   ]
  },
  {
   "cell_type": "markdown",
   "metadata": {},
   "source": [
    "### 3. Odabir modela"
   ]
  },
  {
   "cell_type": "markdown",
   "metadata": {},
   "source": [
    "### (a)\n",
    "\n",
    "Na skupu podataka iz zadatka 2 trenirajte pet modela linearne regresije $\\mathcal{H}_d$ različite složenosti, gdje je $d$ stupanj polinoma, $d\\in\\{1,3,5,10,20\\}$. Prikažite na istome grafikonu skup za učenje i funkcije $h_d(\\mathbf{x})$ za svih pet modela (preporučujemo koristiti `plot` unutar `for` petlje). Izračunajte pogrešku učenja svakog od modela."
   ]
  },
  {
   "cell_type": "code",
   "execution_count": 10,
   "metadata": {
    "collapsed": false
   },
   "outputs": [
    {
     "name": "stdout",
     "output_type": "stream",
     "text": [
      "Error 1 =\n",
      "48895.4425872\n",
      "Error 2 =\n",
      "35428.236105\n",
      "Error 3 =\n",
      "34220.8552563\n",
      "Error 4 =\n",
      "28142.3743804\n",
      "Error 5 =\n",
      "17678.216131\n"
     ]
    },
    {
     "data": {
      "image/png": "[encoded data removed]",
      "text/plain": [
       "<matplotlib.figure.Figure at 0x7f4fc916d9d0>"
      ]
     },
     "metadata": {},
     "output_type": "display_data"
    }
   ],
   "source": [
    "d_set = [1, 3, 5, 10 , 20]\n",
    "Hd = []\n",
    "dmat_set = []\n",
    "for d in d_set:\n",
    "    polyf = PolynomialFeatures(d)\n",
    "    dmat = polyf.fit_transform(X)\n",
    "    dmat_set.append(dmat)\n",
    "    W = linalg.pinv(dmat).dot(y)\n",
    "    Hd.append(W)\n",
    "\n",
    "for i in range(5):\n",
    "    print 'Error ' + str(i+1) + ' ='\n",
    "    out = h(Hd[i], dmat_set[i])\n",
    "    plt.plot(X, out)\n",
    "    print sklearn.metrics.mean_squared_error(out, y)"
   ]
  },
  {
   "cell_type": "markdown",
   "metadata": {},
   "source": [
    "**Q:** Koji model ima najmanju pogrešku učenja i zašto?"
   ]
  },
  {
   "cell_type": "markdown",
   "metadata": {},
   "source": [
    "### (b)"
   ]
  },
  {
   "cell_type": "markdown",
   "metadata": {},
   "source": [
    "Razdvojite skup primjera iz zadatka 2 pomoću funkcije [`cross_validation.train_test_split`](http://scikit-learn.org/stable/modules/generated/sklearn.cross_validation.train_test_split.html#sklearn.cross_validation.train_test_split) na skup za učenja i skup za ispitivanje u omjeru 1:1. Prikažite na jednom grafikonu pogrešku učenja i ispitnu pogrešku za modele polinomijalne regresije $\\mathcal{H}_d$, sa stupnjem polinoma $d$ u rasponu $d\\in\\{1,20\\}$. Radi preciznosti, funkcije $h(\\mathbf{x})$ iscrtajte na cijelom skupu primjera (ali pogrešku generalizacije računajte, naravno, samo na ispitnome skupu). Budući da kvadratna pogreška brzo raste za veće stupnjeve polinoma, umjesto da iscrtate izravno iznose pogrešaka, iscrtajte njihove logaritme.\n",
    "\n",
    "**NB:** Podjela na skupa za učenje i skup za ispitivanje mora za svih pet modela biti identična."
   ]
  },
  {
   "cell_type": "code",
   "execution_count": 11,
   "metadata": {
    "collapsed": false
   },
   "outputs": [
    {
     "data": {
      "text/plain": [
       "<matplotlib.legend.Legend at 0x7f4fc8f65fd0>"
      ]
     },
     "execution_count": 11,
     "metadata": {},
     "output_type": "execute_result"
    },
    {
     "data": {
      "image/png": "[encoded data removed]",
      "text/plain": [
       "<matplotlib.figure.Figure at 0x7f4fcafd70d0>"
      ]
     },
     "metadata": {},
     "output_type": "display_data"
    }
   ],
   "source": [
    "from sklearn import cross_validation\n",
    "\n",
    "X_train, X_test, y_train, y_test = cross_validation.train_test_split(X, y, test_size=0.5)\n",
    "\n",
    "\n",
    "train_error = []\n",
    "test_error = []\n",
    "for d in d_set:\n",
    "    polyf = PolynomialFeatures(d)\n",
    "    dmat = polyf.fit_transform(X_train)\n",
    "    W = linalg.pinv(dmat).dot(y_train)\n",
    "    out = h(W, dmat)\n",
    "    train_error.append(log(sklearn.metrics.mean_squared_error(out, y_train)))\n",
    "\n",
    "    dmat = polyf.fit_transform(X_test)\n",
    "    out = h(W, dmat)\n",
    "    test_error.append(log(sklearn.metrics.mean_squared_error(out, y_test)))\n",
    "    \n",
    "plt.plot(d_set, train_error, label='train')\n",
    "plt.plot(d_set, test_error, label='test')\n",
    "plt.legend()"
   ]
  },
  {
   "cell_type": "markdown",
   "metadata": {},
   "source": [
    "**Q:** Je li rezultat u skladu s očekivanjima? Koji biste model odabrali i zašto?\n",
    "\n",
    "**Q:** Pokrenite iscrtavanje više puta. U čemu je problem? Bi li problem bio jednako izražen kad bismo imali više primjera? Zašto?"
   ]
  },
  {
   "cell_type": "markdown",
   "metadata": {},
   "source": [
    "### (c)"
   ]
  },
  {
   "cell_type": "markdown",
   "metadata": {},
   "source": [
    "Problem s prethodnim eksperimentom jest stohastičnost koja je posljedica slučajne podjele primjera na primjere za učenje i primjere za ispitivanje. Jedan način da se to zaobiđe jest da se fiksira podjela skupa primjere. To, međutim, uvodi proizvoljnost i ne daje pouzdanu procjenu pogreške. Bolje rješenje jest ponoviti izračun više puta s različitim podjelama skupa podataka i zatim uprosječiti vrijednosti pogreške za svaki model. Definirajte funkciju `plot_poly_regression_errors(X, degrees, ratio=0.5, repeat=30)` koja radi upravo to: funkcija uzima matricu primjera `X` i vektor oznaka `y`, dijeli ih na skup za učenje i skup za ispitivanje u omjeru `ratio` (udio skupa za ispitivanje) te trenira polinomijalne regresijske modele svih stupnjeva iz liste `degrees`, i to svaki `repeat` puta, te prikazuje grafikon uprosječenih logaritama pogrešaka.\n",
    "\n",
    "**NB:**  Kako biste osigurali ponovljivost eksperimenta, generator pseudoslučajnih brojeva incijalizirajte nekom odabranom vrijednošću. Pritom osigurajte da svako ponavljanje eksperimenata ipak bude različito, ali da cjelokupan eksperiment bude ponovljiv."
   ]
  },
  {
   "cell_type": "code",
   "execution_count": 12,
   "metadata": {
    "collapsed": false,
    "scrolled": true
   },
   "outputs": [
    {
     "data": {
      "image/png": "[encoded data removed]",
      "text/plain": [
       "<matplotlib.figure.Figure at 0x7f4fc8fc5810>"
      ]
     },
     "metadata": {},
     "output_type": "display_data"
    }
   ],
   "source": [
    "def plot_poly_regression_errors(X, degrees, ratio=0.5, repeat=30):\n",
    "    train_error = [0 for i in range(len(degrees))]\n",
    "    test_error = [0 for i in range(len(degrees))]\n",
    "    for repeater in range(repeat):\n",
    "        X_train, X_test, y_train, y_test = cross_validation.train_test_split(X, y, test_size=0.5)\n",
    "\n",
    "        for i in range(len(degrees)):\n",
    "            polyf = PolynomialFeatures(degrees[i])\n",
    "            dmat = polyf.fit_transform(X_train)\n",
    "            W = linalg.pinv(dmat).dot(y_train)\n",
    "            out = h(W, dmat)\n",
    "            train_error[i] += sklearn.metrics.mean_squared_error(out, y_train)\n",
    "\n",
    "            dmat = polyf.fit_transform(X_test)\n",
    "            out = h(W, dmat)\n",
    "            test_error[i] += sklearn.metrics.mean_squared_error(out, y_test)\n",
    "    \n",
    "    for i in range(len(degrees)):\n",
    "        train_error[i] /= repeat;\n",
    "        test_error[i] /= repeat;\n",
    "        train_error[i] = log(train_error[i])\n",
    "        test_error[i] = log(test_error[i])\n",
    "    plt.plot(degrees, train_error, label='train')\n",
    "    plt.plot(degrees, test_error, label='test')\n",
    "    plt.legend()\n",
    "\n",
    "plot_poly_regression_errors(X, [1, 3, 5, 10, 20])"
   ]
  },
  {
   "cell_type": "markdown",
   "metadata": {},
   "source": [
    "### (d)"
   ]
  },
  {
   "cell_type": "markdown",
   "metadata": {},
   "source": [
    "Točnost modela ovisi o (1) njegovoj složenosti (stupanj $d$ polinoma), (2) broju primjera $N$, i (3) količini šuma. Kako biste to analizirali, nacrtajte grafikone pogrešaka kao u 3b, ali za sve kombinacija broja primjera $N\\in\\{100,200,1000\\}$ i količine šuma $\\sigma\\in\\{100,200,500\\}$ (ukupno 9 grafikona). Upotrijebite funkciju [`subplots`](http://matplotlib.org/examples/pylab_examples/subplots_demo.html) kako biste pregledno posložili grafikone u tablicu $3\\times 3$. Podatci se generiraju na isti način kao u zadatku 2.\n",
    "\n",
    "**NB:** Pobrinite se da svi grafikoni budu generirani nad usporedivim skupovima podataka, na sljedeći način. Generirajte najprije svih 1000 primjera, podijelite ih na skupove za učenje i skupove za ispitivanje (dva skupa od po 500 primjera), zatim generirajte tri parova skupova za učenje i ispitivanje, svaki s različitom količinom šuma. Naposlijetku iz tih skupova izdvojite dodatne podskupove od $N=200$ primjera ($100$ za učenje i $100$ za ispitivanje) i $N=100$ primjera ($50$ za učenje i $50$ za ispitivanje)."
   ]
  },
  {
   "cell_type": "code",
   "execution_count": 13,
   "metadata": {
    "collapsed": false
   },
   "outputs": [
    {
     "data": {
      "image/png": "[encoded data removed]",
      "text/plain": [
       "<matplotlib.figure.Figure at 0x7f4fc9083790>"
      ]
     },
     "metadata": {},
     "output_type": "display_data"
    }
   ],
   "source": [
    "X = []\n",
    "for i in range(0, 1000):\n",
    "    X.append([random.uniform(-5, 5)])\n",
    "X = array(X)\n",
    "X_train = X[:500]\n",
    "X_test = X[500:1000]\n",
    "y_train_s100 = make_labels(X_train, f, 100)\n",
    "y_test_s100 = make_labels(X_test, f, 100)\n",
    "y_train_s200 = make_labels(X_train, f, 200)\n",
    "y_test_s200 = make_labels(X_test, f, 200)\n",
    "y_train_s500 = make_labels(X_train, f, 500)\n",
    "y_test_s500 = make_labels(X_test, f, 500)\n",
    "\n",
    "X_train_n50 = X_train[:50]\n",
    "X_test_n50 = X_test[:50]\n",
    "X_train_n100 = X_train[:100]\n",
    "X_test_n100 = X_test[:100]\n",
    "X_train_n500 = X_train\n",
    "X_test_n500 = X_test\n",
    "\n",
    "\n",
    "degrees = [1, 3, 5, 10, 20]\n",
    "def train_test_plot(X_train, X_test, y_train, y_test, degrees, subplot):\n",
    "    train_error = []\n",
    "    test_error = []\n",
    "    for d in degrees:\n",
    "        polyf = PolynomialFeatures(d)\n",
    "        dmat = polyf.fit_transform(X_train)\n",
    "        W = linalg.pinv(dmat).dot(y_train)\n",
    "        out = h(W, dmat)\n",
    "        train_error.append(log(sklearn.metrics.mean_squared_error(out, y_train)))\n",
    "\n",
    "        dmat = polyf.fit_transform(X_test)\n",
    "        out = h(W, dmat)\n",
    "        test_error.append(log(sklearn.metrics.mean_squared_error(out, y_test)))\n",
    "        \n",
    "    plt.subplot(subplot)\n",
    "    plt.plot(degrees, train_error, label='train')\n",
    "    plt.plot(degrees, test_error, label='test')\n",
    "    plt.legend()\n",
    "\n",
    "plt.figure(figsize=(15, 15))\n",
    "train_test_plot(X_train_n50, X_test_n50, y_train_s100[:50], y_test_s100[:50], degrees, 331)\n",
    "train_test_plot(X_train_n50, X_test_n50, y_train_s200[:50], y_test_s200[:50], degrees, 332)\n",
    "train_test_plot(X_train_n50, X_test_n50, y_train_s500[:50], y_test_s500[:50], degrees, 333)\n",
    "train_test_plot(X_train_n100, X_test_n100, y_train_s100[:100], y_test_s100[:100], degrees, 334)\n",
    "train_test_plot(X_train_n100, X_test_n100, y_train_s200[:100], y_test_s200[:100], degrees, 335)\n",
    "train_test_plot(X_train_n100, X_test_n100, y_train_s500[:100], y_test_s500[:100], degrees, 336)\n",
    "train_test_plot(X_train_n500, X_test_n500, y_train_s100, y_test_s100, degrees, 337)\n",
    "train_test_plot(X_train_n500, X_test_n500, y_train_s200, y_test_s200, degrees, 338)\n",
    "train_test_plot(X_train_n500, X_test_n500, y_train_s500, y_test_s500, degrees, 339)"
   ]
  },
  {
   "cell_type": "markdown",
   "metadata": {},
   "source": [
    "***Q:*** Jesu li rezultati očekivani? Obrazložite."
   ]
  },
  {
   "cell_type": "markdown",
   "metadata": {},
   "source": [
    "### 4. Regularizirana regresija"
   ]
  },
  {
   "cell_type": "markdown",
   "metadata": {},
   "source": [
    "### (a)\n",
    "\n",
    "U gornjim eksperimentima nismo koristili **regularizaciju**. Vratimo se najprije na primjer iz zadatka 1. Na primjerima iz tog zadatka izračunajte težine $\\mathbf{w}$ za polinomijalni regresijski model stupnja $d=3$ uz L2-regularizaciju (tzv. *ridge regression*), prema izrazu $\\mathbf{w}=(\\mathbf{\\Phi}^\\intercal\\mathbf{\\Phi}+\\lambda\\mathbf{I})^{-1}\\mathbf{\\Phi}^\\intercal\\mathbf{y}$. Napravite izračun težina za regularizacijske faktore $\\lambda=0$, $\\lambda=1$ i $\\lambda=10$ te usporedite dobivene težine."
   ]
  },
  {
   "cell_type": "code",
   "execution_count": 14,
   "metadata": {
    "collapsed": false
   },
   "outputs": [
    {
     "name": "stdout",
     "output_type": "stream",
     "text": [
      "Lamda = 0\n",
      "[ 2.2         0.45714286]\n",
      "\n",
      "Labda = 1\n",
      "[ 1.45901639  0.67213115]\n",
      "\n",
      "Lambda = 10\n",
      "[ 0.51168831  0.69090909]\n"
     ]
    }
   ],
   "source": [
    "X = sp.array([[0],[1],[2],[4]])\n",
    "y = sp.array([4,1,2,5])\n",
    "\n",
    "from sklearn.preprocessing import PolynomialFeatures\n",
    "polyf = PolynomialFeatures(1)\n",
    "dmat = polyf.fit_transform(X)\n",
    "\n",
    "from scipy import linalg\n",
    "\n",
    "def W(lamb):\n",
    "    return linalg.inv(dmat.T.dot(dmat) + lamb * numpy.identity(len(dmat[0]))).dot(dmat.T).dot(y)\n",
    "\n",
    "print 'Lamda = 0'\n",
    "print W(0)\n",
    "print\n",
    "print 'Labda = 1'\n",
    "print W(1)\n",
    "print\n",
    "print 'Lambda = 10'\n",
    "print W(10)"
   ]
  },
  {
   "cell_type": "markdown",
   "metadata": {},
   "source": [
    "**Q:** Kojih je dimenzija matrica koju treba invertirati?\n",
    "\n",
    "**Q:** Po čemu se razlikuju dobivene težine i je li ta razlika očekivana? Obrazložite."
   ]
  },
  {
   "cell_type": "markdown",
   "metadata": {},
   "source": [
    "### (b)"
   ]
  },
  {
   "cell_type": "markdown",
   "metadata": {},
   "source": [
    "Proučite klasu [`Ridge`](http://scikit-learn.org/stable/modules/generated/sklearn.linear_model.Ridge.html#sklearn.linear_model.Ridge) iz modula [`sklearn.linear_model`](http://scikit-learn.org/stable/modules/classes.html#module-sklearn.linear_model), koja implementira L2-regularizirani regresijski model. Parametar $\\alpha$ odgovara parametru $\\lambda$. Primijenite model na istim primjerima kao u prethodnom zadatku i ispišite težine $\\mathbf{w}$ (metode `coef_` i `intercept_`)."
   ]
  },
  {
   "cell_type": "code",
   "execution_count": 15,
   "metadata": {
    "collapsed": false
   },
   "outputs": [
    {
     "name": "stdout",
     "output_type": "stream",
     "text": [
      "[ 0.45714286]\n",
      "2.2\n",
      "[ 0.41025641]\n",
      "2.28205128205\n",
      "[ 0.21333333]\n",
      "2.62666666667\n"
     ]
    }
   ],
   "source": [
    "from sklearn.linear_model import Ridge\n",
    "\n",
    "clf = Ridge(alpha=0.0)\n",
    "clf.fit(X, y) \n",
    "print clf.coef_\n",
    "print clf.intercept_\n",
    "\n",
    "clf = Ridge(alpha=1.0)\n",
    "clf.fit(X, y) \n",
    "print clf.coef_\n",
    "print clf.intercept_\n",
    "\n",
    "clf = Ridge(alpha=10.0)\n",
    "clf.fit(X, y) \n",
    "print clf.coef_\n",
    "print clf.intercept_"
   ]
  },
  {
   "cell_type": "markdown",
   "metadata": {},
   "source": [
    "**Q:** Jesu li težine identične onima iz zadatka 4a? Ako nisu, objasnite zašto je to tako te popravite izračun u zadatku 4a tako da težine budu identične ovima u zadatku 4b."
   ]
  },
  {
   "cell_type": "markdown",
   "metadata": {},
   "source": [
    "### 5. Regularizirana polinomijalna regresija"
   ]
  },
  {
   "cell_type": "markdown",
   "metadata": {},
   "source": [
    "### (a)\n",
    "\n",
    "Vratimo se na slučaj $N=50$ slučajno generiranih primjera iz zadatka 2. Trenirajte modele polinomijalne regresije $\\mathcal{H}_{\\lambda,d}$ za $\\lambda\\in\\{0,100\\}$ i $d\\in\\{2,10\\}$ (ukupno četiri modela). Skicirajte pripadne funkcije $h(\\mathbf{x})$ i primjere (na jednom grafikonu; preporučujemo koristiti `plot` unutar `for` petlje)."
   ]
  },
  {
   "cell_type": "code",
   "execution_count": 18,
   "metadata": {
    "collapsed": false
   },
   "outputs": [
    {
     "name": "stdout",
     "output_type": "stream",
     "text": [
      "[[-4.77896037]\n",
      " [-4.64400243]\n",
      " [-4.58394691]\n",
      " [-4.30832525]\n",
      " [-4.19449786]\n",
      " [-3.50604014]\n",
      " [-3.37415432]\n",
      " [-3.34889087]\n",
      " [-3.23197473]\n",
      " [-2.76361416]\n",
      " [-2.64617443]\n",
      " [-2.43815086]\n",
      " [-2.11369537]\n",
      " [-1.85408922]\n",
      " [-1.54500956]\n",
      " [-1.51131588]\n",
      " [-1.17171729]\n",
      " [-1.03376554]\n",
      " [-0.86281516]\n",
      " [-0.83407906]\n",
      " [-0.60503127]\n",
      " [-0.48051934]\n",
      " [-0.30637035]\n",
      " [-0.18544114]\n",
      " [-0.08940681]\n",
      " [ 0.19754385]\n",
      " [ 0.31170508]\n",
      " [ 0.34491012]\n",
      " [ 0.45220884]\n",
      " [ 0.53228586]\n",
      " [ 0.54699765]\n",
      " [ 1.15403591]\n",
      " [ 1.54995231]\n",
      " [ 1.5562769 ]\n",
      " [ 2.46197874]\n",
      " [ 2.47496511]\n",
      " [ 2.55875261]\n",
      " [ 2.90168487]\n",
      " [ 3.09016795]\n",
      " [ 3.47628242]\n",
      " [ 3.57396395]\n",
      " [ 3.92021614]\n",
      " [ 3.93859427]\n",
      " [ 4.41212459]\n",
      " [ 4.49333082]\n",
      " [ 4.53177433]\n",
      " [ 4.74194408]\n",
      " [ 4.76185948]\n",
      " [ 4.79489006]\n",
      " [ 4.9187668 ]]\n",
      "[[-4.77896037]\n",
      " [-4.64400243]\n",
      " [-4.58394691]\n",
      " [-4.30832525]\n",
      " [-4.19449786]\n",
      " [-3.50604014]\n",
      " [-3.37415432]\n",
      " [-3.34889087]\n",
      " [-3.23197473]\n",
      " [-2.76361416]\n",
      " [-2.64617443]\n",
      " [-2.43815086]\n",
      " [-2.11369537]\n",
      " [-1.85408922]\n",
      " [-1.54500956]\n",
      " [-1.51131588]\n",
      " [-1.17171729]\n",
      " [-1.03376554]\n",
      " [-0.86281516]\n",
      " [-0.83407906]\n",
      " [-0.60503127]\n",
      " [-0.48051934]\n",
      " [-0.30637035]\n",
      " [-0.18544114]\n",
      " [-0.08940681]\n",
      " [ 0.19754385]\n",
      " [ 0.31170508]\n",
      " [ 0.34491012]\n",
      " [ 0.45220884]\n",
      " [ 0.53228586]\n",
      " [ 0.54699765]\n",
      " [ 1.15403591]\n",
      " [ 1.54995231]\n",
      " [ 1.5562769 ]\n",
      " [ 2.46197874]\n",
      " [ 2.47496511]\n",
      " [ 2.55875261]\n",
      " [ 2.90168487]\n",
      " [ 3.09016795]\n",
      " [ 3.47628242]\n",
      " [ 3.57396395]\n",
      " [ 3.92021614]\n",
      " [ 3.93859427]\n",
      " [ 4.41212459]\n",
      " [ 4.49333082]\n",
      " [ 4.53177433]\n",
      " [ 4.74194408]\n",
      " [ 4.76185948]\n",
      " [ 4.79489006]\n",
      " [ 4.9187668 ]]\n",
      "[[-4.77896037]\n",
      " [-4.64400243]\n",
      " [-4.58394691]\n",
      " [-4.30832525]\n",
      " [-4.19449786]\n",
      " [-3.50604014]\n",
      " [-3.37415432]\n",
      " [-3.34889087]\n",
      " [-3.23197473]\n",
      " [-2.76361416]\n",
      " [-2.64617443]\n",
      " [-2.43815086]\n",
      " [-2.11369537]\n",
      " [-1.85408922]\n",
      " [-1.54500956]\n",
      " [-1.51131588]\n",
      " [-1.17171729]\n",
      " [-1.03376554]\n",
      " [-0.86281516]\n",
      " [-0.83407906]\n",
      " [-0.60503127]\n",
      " [-0.48051934]\n",
      " [-0.30637035]\n",
      " [-0.18544114]\n",
      " [-0.08940681]\n",
      " [ 0.19754385]\n",
      " [ 0.31170508]\n",
      " [ 0.34491012]\n",
      " [ 0.45220884]\n",
      " [ 0.53228586]\n",
      " [ 0.54699765]\n",
      " [ 1.15403591]\n",
      " [ 1.54995231]\n",
      " [ 1.5562769 ]\n",
      " [ 2.46197874]\n",
      " [ 2.47496511]\n",
      " [ 2.55875261]\n",
      " [ 2.90168487]\n",
      " [ 3.09016795]\n",
      " [ 3.47628242]\n",
      " [ 3.57396395]\n",
      " [ 3.92021614]\n",
      " [ 3.93859427]\n",
      " [ 4.41212459]\n",
      " [ 4.49333082]\n",
      " [ 4.53177433]\n",
      " [ 4.74194408]\n",
      " [ 4.76185948]\n",
      " [ 4.79489006]\n",
      " [ 4.9187668 ]]\n",
      "[[-4.77896037]\n",
      " [-4.64400243]\n",
      " [-4.58394691]\n",
      " [-4.30832525]\n",
      " [-4.19449786]\n",
      " [-3.50604014]\n",
      " [-3.37415432]\n",
      " [-3.34889087]\n",
      " [-3.23197473]\n",
      " [-2.76361416]\n",
      " [-2.64617443]\n",
      " [-2.43815086]\n",
      " [-2.11369537]\n",
      " [-1.85408922]\n",
      " [-1.54500956]\n",
      " [-1.51131588]\n",
      " [-1.17171729]\n",
      " [-1.03376554]\n",
      " [-0.86281516]\n",
      " [-0.83407906]\n",
      " [-0.60503127]\n",
      " [-0.48051934]\n",
      " [-0.30637035]\n",
      " [-0.18544114]\n",
      " [-0.08940681]\n",
      " [ 0.19754385]\n",
      " [ 0.31170508]\n",
      " [ 0.34491012]\n",
      " [ 0.45220884]\n",
      " [ 0.53228586]\n",
      " [ 0.54699765]\n",
      " [ 1.15403591]\n",
      " [ 1.54995231]\n",
      " [ 1.5562769 ]\n",
      " [ 2.46197874]\n",
      " [ 2.47496511]\n",
      " [ 2.55875261]\n",
      " [ 2.90168487]\n",
      " [ 3.09016795]\n",
      " [ 3.47628242]\n",
      " [ 3.57396395]\n",
      " [ 3.92021614]\n",
      " [ 3.93859427]\n",
      " [ 4.41212459]\n",
      " [ 4.49333082]\n",
      " [ 4.53177433]\n",
      " [ 4.74194408]\n",
      " [ 4.76185948]\n",
      " [ 4.79489006]\n",
      " [ 4.9187668 ]]\n"
     ]
    },
    {
     "data": {
      "text/plain": [
       "<matplotlib.legend.Legend at 0x7f4fc8828b90>"
      ]
     },
     "execution_count": 18,
     "metadata": {},
     "output_type": "execute_result"
    },
    {
     "data": {
      "image/png": "[encoded data removed]",
      "text/plain": [
       "<matplotlib.figure.Figure at 0x7f4fc8fe05d0>"
      ]
     },
     "metadata": {},
     "output_type": "display_data"
    }
   ],
   "source": [
    "from numpy.random import normal\n",
    "\n",
    "def make_labels(X, f, noise=0):\n",
    "    return numpy.array(f(X) + normal(0, noise))\n",
    "\n",
    "from sklearn.preprocessing import PolynomialFeatures\n",
    "from scipy import linalg\n",
    "\n",
    "def W(X, d, lamb, y):\n",
    "    polyf = PolynomialFeatures(d)\n",
    "    dmat = polyf.fit_transform(X)\n",
    "    return dmat, linalg.inv(dmat.T.dot(dmat) + lamb * numpy.identity(len(dmat[0]))).dot(dmat.T).dot(y)\n",
    "\n",
    "f = lambda x: 5 + x - 2*x**2 - 5*x**3\n",
    "\n",
    "X = []\n",
    "for i in range(0,50):\n",
    "    X.append([random.uniform(-5, 5)])\n",
    "X.sort()\n",
    "X = array(X)\n",
    "y = make_labels(X, f, 200)\n",
    "\n",
    "X1, W1 = W(X, 2, 0, y)\n",
    "X2, W2 = W(X, 2, 100, y)\n",
    "X3, W3 = W(X, 10, 0, y)\n",
    "X4, W4 = W(X, 10, 100, y)\n",
    "\n",
    "plt.plot(X, h(W1, X1), c='r', label='d:2 l:0')\n",
    "plt.plot(X, h(W2, X2), c='g', label='d:2 l:100')\n",
    "plt.plot(X, h(W3, X3), c='b', label='d:10 l:0')\n",
    "plt.plot(X, h(W4, X4), c='cyan', label='d:10 l:100')\n",
    "plt.legend()"
   ]
  },
  {
   "cell_type": "markdown",
   "metadata": {},
   "source": [
    "**Q:** Jesu li rezultati očekivani? Obrazložite.\n",
    "\n",
    "**Q:** Za koji od ovih četiri modela biste očekivali da će najbolje generalizirati?"
   ]
  },
  {
   "cell_type": "markdown",
   "metadata": {},
   "source": [
    "### (b)\n",
    "\n",
    "Kao u zadataku 3b, razdvojite primjere na skup za učenje i skup za ispitivanje u omjeru 1:1. Prikažite krivulje logaritama pogreške učenja i ispitne pogreške u ovisnosti za model $\\mathcal{H}_{d=20,\\lambda}$, podešavajući faktor regularizacije $\\lambda$ u rasponu $\\lambda\\in\\{0,1,\\dots,50\\}$."
   ]
  },
  {
   "cell_type": "code",
   "execution_count": 17,
   "metadata": {
    "collapsed": false
   },
   "outputs": [
    {
     "ename": "NameError",
     "evalue": "name 'train_test_split' is not defined",
     "output_type": "error",
     "traceback": [
      "\u001b[1;31m---------------------------------------------------------------------------\u001b[0m",
      "\u001b[1;31mNameError\u001b[0m                                 Traceback (most recent call last)",
      "\u001b[1;32m<ipython-input-17-70db50158103>\u001b[0m in \u001b[0;36m<module>\u001b[1;34m()\u001b[0m\n\u001b[1;32m----> 1\u001b[1;33m \u001b[0mX_train\u001b[0m\u001b[1;33m,\u001b[0m \u001b[0mX_test\u001b[0m\u001b[1;33m,\u001b[0m \u001b[0my_train\u001b[0m\u001b[1;33m,\u001b[0m \u001b[0my_test\u001b[0m \u001b[1;33m=\u001b[0m \u001b[0mtrain_test_split\u001b[0m\u001b[1;33m(\u001b[0m\u001b[0mX\u001b[0m\u001b[1;33m,\u001b[0m \u001b[0my\u001b[0m\u001b[1;33m,\u001b[0m \u001b[0mtest_size\u001b[0m\u001b[1;33m=\u001b[0m\u001b[1;36m0.5\u001b[0m\u001b[1;33m)\u001b[0m\u001b[1;33m\u001b[0m\u001b[0m\n\u001b[0m\u001b[0;32m      2\u001b[0m \u001b[1;33m\u001b[0m\u001b[0m\n\u001b[0;32m      3\u001b[0m \u001b[1;32mdef\u001b[0m \u001b[0mWc\u001b[0m\u001b[1;33m(\u001b[0m\u001b[0mX\u001b[0m\u001b[1;33m,\u001b[0m \u001b[0mlamb\u001b[0m\u001b[1;33m,\u001b[0m \u001b[0my\u001b[0m\u001b[1;33m)\u001b[0m\u001b[1;33m:\u001b[0m\u001b[1;33m\u001b[0m\u001b[0m\n\u001b[0;32m      4\u001b[0m     \u001b[1;32mreturn\u001b[0m \u001b[0mlinalg\u001b[0m\u001b[1;33m.\u001b[0m\u001b[0minv\u001b[0m\u001b[1;33m(\u001b[0m\u001b[0mdmat\u001b[0m\u001b[1;33m.\u001b[0m\u001b[0mT\u001b[0m\u001b[1;33m.\u001b[0m\u001b[0mdot\u001b[0m\u001b[1;33m(\u001b[0m\u001b[0mdmat\u001b[0m\u001b[1;33m)\u001b[0m \u001b[1;33m+\u001b[0m \u001b[0mlamb\u001b[0m \u001b[1;33m*\u001b[0m \u001b[0mnumpy\u001b[0m\u001b[1;33m.\u001b[0m\u001b[0midentity\u001b[0m\u001b[1;33m(\u001b[0m\u001b[0mlen\u001b[0m\u001b[1;33m(\u001b[0m\u001b[0mdmat\u001b[0m\u001b[1;33m[\u001b[0m\u001b[1;36m0\u001b[0m\u001b[1;33m]\u001b[0m\u001b[1;33m)\u001b[0m\u001b[1;33m)\u001b[0m\u001b[1;33m)\u001b[0m\u001b[1;33m.\u001b[0m\u001b[0mdot\u001b[0m\u001b[1;33m(\u001b[0m\u001b[0mdmat\u001b[0m\u001b[1;33m.\u001b[0m\u001b[0mT\u001b[0m\u001b[1;33m)\u001b[0m\u001b[1;33m.\u001b[0m\u001b[0mdot\u001b[0m\u001b[1;33m(\u001b[0m\u001b[0my\u001b[0m\u001b[1;33m)\u001b[0m\u001b[1;33m\u001b[0m\u001b[0m\n\u001b[0;32m      5\u001b[0m \u001b[1;33m\u001b[0m\u001b[0m\n",
      "\u001b[1;31mNameError\u001b[0m: name 'train_test_split' is not defined"
     ]
    }
   ],
   "source": [
    "X_train, X_test, y_train, y_test = train_test_split(X, y, test_size=0.5)\n",
    "\n",
    "def Wc(X, lamb, y):\n",
    "    return linalg.inv(dmat.T.dot(dmat) + lamb * numpy.identity(len(dmat[0]))).dot(dmat.T).dot(y)\n",
    "\n",
    "train_error = []\n",
    "test_error = []\n",
    "d = 20\n",
    "lambdas = range(51)\n",
    "for lamb in lambdas:\n",
    "    polyf = PolynomialFeatures(d)\n",
    "    dmat = polyf.fit_transform(X_train)\n",
    "    W = Wc(X_train, lamb, y_train)\n",
    "    out = h(W, dmat)\n",
    "    train_error.append(sklearn.metrics.mean_squared_error(out, y_train))\n",
    "\n",
    "    dmat = polyf.fit_transform(X_test)\n",
    "    out = h(W, dmat)\n",
    "    test_error.append(sklearn.metrics.mean_squared_error(out, y_test))\n",
    "    \n",
    "plt.plot(lambdas, train_error, label='train')\n",
    "plt.plot(lambdas, test_error, label='test')\n",
    "plt.legend()"
   ]
  },
  {
   "cell_type": "markdown",
   "metadata": {},
   "source": [
    "**Q:** Kojoj strani na grafikonu odgovara područje prenaučenosti a kojoj podnaučenosti. Zašto?\n",
    "\n",
    "**Q:** Koju biste vrijednosti za $\\lambda$ izabrali na temelju ovih grafikona i zašto?\n",
    "\n",
    "**Q:** Jesu li rezultati stabilni? Zašto?"
   ]
  },
  {
   "cell_type": "markdown",
   "metadata": {},
   "source": [
    "### 6. L1-regularizacija i L2-regularizacija"
   ]
  },
  {
   "cell_type": "markdown",
   "metadata": {},
   "source": [
    "Svrha regularizacije jest potiskivanje težina modela $\\mathbf{w}$ prema nuli, kako bi model bio što jednostavniji. Složenost modela može se okarakterizirati normom pripadnog vektora težina $\\mathbf{w}$, i to tipično L2-normom ili L1-normom. Za jednom trenirani model možemo izračunati i broj ne-nul značajki, ili L0-normu, pomoću sljedeće funkcija:"
   ]
  },
  {
   "cell_type": "code",
   "execution_count": null,
   "metadata": {
    "collapsed": false
   },
   "outputs": [],
   "source": [
    "def nonzeroes(coef, tol=1e-6): \n",
    "    return len(coef) - len(coef[sp.isclose(0, coef, atol=tol)])"
   ]
  },
  {
   "cell_type": "markdown",
   "metadata": {},
   "source": [
    "### (a)\n",
    "\n",
    "Za ovaj zadatak upotrijebite skup za učenje i skup za testiranje iz zadatka 3b. Trenirajte modele **L2-regularizirane** polinomijalne regresije stupnja $d=20$, mijenjajući hiperparametar $\\lambda$ u rasponu $\\{1,2,\\dots,100\\}$. Za svaki od treniranih modela izračunajte L{0,1,2}-norme vektora težina $\\mathbf{w}$ te ih prikažite kao funkciju od $\\lambda$."
   ]
  },
  {
   "cell_type": "code",
   "execution_count": null,
   "metadata": {
    "collapsed": false
   },
   "outputs": [],
   "source": [
    "from sklearn.linear_model import Ridge\n",
    "\n",
    "def l1(w):\n",
    "    sum=0\n",
    "    for wi in w:\n",
    "        sum=sum+abs(wi)\n",
    "    return sum\n",
    "\n",
    "def l2(w):\n",
    "    sum=0\n",
    "    for wi in w:\n",
    "        sum=sum+abs((wi)**2)\n",
    "    sum = sqrt(sum)\n",
    "    return sum\n",
    "\n",
    "\n",
    "def nonzeroes(w):\n",
    "    sum = 0\n",
    "    for wi in w:\n",
    "        if wi != 0:\n",
    "            sum = sum + 1\n",
    "    return sum\n",
    "\n",
    "l0s=[]\n",
    "l1s=[]\n",
    "l2s=[]\n",
    "for alfa in range(0,101):\n",
    "    ridge=Ridge(alpha=alfa)\n",
    "    ridge.fit(X_train, y_train)\n",
    "    w=ridge.coef_\n",
    "    l0s.append(nonzeroes(w))\n",
    "    l1s.append(l1(w))\n",
    "    l2s.append(l2(w))\n",
    "\n",
    "plt.plot(range(0,101), l0s)\n",
    "plt.plot(range(0,101), l1s)\n",
    "plt.plot(range(0,101), l2s)\n",
    "# Vaše rješenje..."
   ]
  },
  {
   "cell_type": "markdown",
   "metadata": {},
   "source": [
    "**Q:** Objasnite oblik obiju krivulja. Hoće li krivulja za $\\|\\mathbf{w}\\|_2$ doseći nulu? Zašto? Je li to problem? Zašto?\n",
    "\n",
    "**Q:** Za $\\lambda=100$, koliki je postotak težina modela jednak nuli, odnosno koliko je model rijedak?"
   ]
  },
  {
   "cell_type": "markdown",
   "metadata": {},
   "source": [
    "### (b)"
   ]
  },
  {
   "cell_type": "markdown",
   "metadata": {},
   "source": [
    "Glavna prednost L1-regularizirane regresije (ili *LASSO regression*) nad L1-regulariziranom regresijom jest u tome što L1-regularizirana regresija rezultira **rijetkim modelima** (engl. *sparse models*), odnosno modelima kod kojih su mnoge težine pritegnute na nulu. Pokažite da je to doista tako, ponovivši gornji eksperiment s **L1-regulariziranom** regresijom, implementiranom u klasi  [`Lasso`](http://scikit-learn.org/stable/modules/generated/sklearn.linear_model.Lasso.html) u modulu [`sklearn.linear_model`](http://scikit-learn.org/stable/modules/classes.html#module-sklearn.linear_model)."
   ]
  },
  {
   "cell_type": "code",
   "execution_count": null,
   "metadata": {
    "collapsed": false
   },
   "outputs": [],
   "source": [
    "from sklearn.linear_model import Lasso\n",
    "\n",
    "l0s=[]\n",
    "l1s=[]\n",
    "l2s=[]\n",
    "for alfa in range(0,101):\n",
    "    lass=Lasso(alpha=alfa)\n",
    "    lass.fit(X_train, y_train)\n",
    "    w=lass.coef_\n",
    "    l0s.append(nonzeroes(w))\n",
    "    l1s.append(l1(w))\n",
    "    l2s.append(l2(w))\n",
    "    \n",
    "plt.plot(range(0,101), l0s)\n",
    "plt.plot(range(0,101), l1s)\n",
    "plt.plot(range(0,101), l2s)"
   ]
  },
  {
   "cell_type": "markdown",
   "metadata": {},
   "source": [
    "**Q:** Kojem biste modelu (Ridge ili LASSO) u praksi dali prednost, i zašto? U kojim situacijama je ta prednost osobito izražena?"
   ]
  },
  {
   "cell_type": "markdown",
   "metadata": {},
   "source": [
    "### *7. Predviđanje cijena nekretnina u Bostonu\n",
    "\n",
    "<span style=\"color:green\">(Rješavanje ovog zadatka nije obavezno, ali donosi dodatne bodove.)</span>"
   ]
  },
  {
   "cell_type": "markdown",
   "metadata": {},
   "source": [
    "Do sada smo razmatrali isključivo univarijatnu regresiju, tj. imali smo samo jednu značajku ($n=1$). U većini stvarnih problema baratamo s većim brojem značajki. Razmotrimo sada jedan nešto realniji problem, kod kojega postoji više značajki, pa je potrebno napraviti multivarijatnu regresiju.\n",
    "\n",
    "Učitajte skup podataka *Boston House Prices*:"
   ]
  },
  {
   "cell_type": "code",
   "execution_count": null,
   "metadata": {
    "collapsed": false
   },
   "outputs": [],
   "source": [
    "from sklearn.datasets import load_boston\n",
    "boston = load_boston()\n",
    "print boston.data.shape\n",
    "print boston.target.shape"
   ]
  },
  {
   "cell_type": "markdown",
   "metadata": {},
   "source": [
    "Skup sadrži 506 primjera sa 13 numeričkih značajki. Opis skupa možete dobiti na sljedeći način:"
   ]
  },
  {
   "cell_type": "code",
   "execution_count": null,
   "metadata": {
    "collapsed": false
   },
   "outputs": [],
   "source": [
    "print boston.DESCR"
   ]
  },
  {
   "cell_type": "markdown",
   "metadata": {},
   "source": [
    "### (a)"
   ]
  },
  {
   "cell_type": "markdown",
   "metadata": {},
   "source": [
    "Vaš je zadatak da izgradite regresijski model za predviđanje cijene nekretnine (`y=boston.target`) na temelju 13 raspoloživih značajki za svaku nekretninu (`X=boston.data`). Cilj je pronaći najbolji mogući linearni model regresije na ovom skupu podataka i provjeriti njegovu točnost u smislu pogreške kvadratnog odstupanja ([`mean_squared_error`]( http://scikit-learn.org/stable/modules/generated/sklearn.metrics.mean_squared_error.html#sklearn.metrics.mean_squared_error)). \n",
    "\n",
    "Hiperparametri modela koje treba isprobati su:\n",
    "\n",
    "* **Regularizacija:** Bez regularizacije ([`LinearRegression`](http://scikit-learn.org/stable/modules/generated/sklearn.linear_model.LinearRegression.html#sklearn.linear_model.LinearRegression)), L2-regularizacija ([`Ridge`](http://scikit-learn.org/stable/modules/generated/sklearn.linear_model.Ridge.html#sklearn.linear_model.Ridge)) i L1-regularizacija ([`Lasso`](http://scikit-learn.org/stable/modules/generated/sklearn.linear_model.Lasso.html#sklearn.linear_model.Lasso));\n",
    "* **Značajke:** Izvornih 13 značajki, polinomijalne značajke (isprobajte različite stupnjeve polinoma $d$), samo interakcijske značajke (opcija `interaction_only` u klasi [`PolynomialFeatures`](http://scikit-learn.org/stable/modules/generated/sklearn.preprocessing.PolynomialFeatures.html));\n",
    "* **Predobrada značajki:** Izvorne vrijednosti značajki ili standardizirane vrijednosti. Standardizacija je postupak skaliranja vrijednosti na distribuciju $\\mathcal{N}(0,1)$; v. [standard score](http://en.wikipedia.org/wiki/Standard_score). Koristite funkciju [`preprocessing.scale`](http://scikit-learn.org/stable/modules/generated/sklearn.preprocessing.scale.html#sklearn.preprocessing.scale).\n",
    "\n",
    "Kao i inače, za odabir i ispitivanje modela koristit ćemo **unakrsnu provjeru** (engl. *cross-validation*). Skup primjera za učenje podijelit ćemo na **skup za učenje**, **skup za provjeru** i **skup za ispitivanje** u omjeru (otprilike) 3:1:1. Kao u uvijek, model trebate trenirati na skupu za učenje, odabir modela (odnosno optimizaciju hiperparametra) trebate provesti na skupu za provjeru, a konačno vrednovanje modela trebate načiniti na skupu za ispitivanje. Konačno vrednovanje radite samo jednom, za model koji ste na skupu za provjeru odabrali kao optimalan.\n",
    "\n",
    "**NB:** Nakon što odaberete optimalan model na skupu za provjeru, prije konačnog ispitivanje odabrani model ponovno trenirajte na uniji skupova za učenje i ispitivanje. Na taj način iskorištavate maksimalno iskorištavate dostupne podatke i model će u pravilu biti bolji.\n",
    "\n",
    "Podjela na skup za učenje, provjeru i ispitivanje u ovom je slučaju fiksna kako bi svi imali identične skupove i kako bi rezultati bili usporedivi. (U stvarnosti biste ovakav eksperiment radili malo drugačije: koristili biste višestruku unakrsnu provjeru ili ugnježđenu unakrsnu provjeru. Više o tome reći ćemo u četvrtoj laboratorijskoj vježbi.) \n",
    "\n",
    "Koristite sljedeće skupove:"
   ]
  },
  {
   "cell_type": "code",
   "execution_count": null,
   "metadata": {
    "collapsed": false
   },
   "outputs": [],
   "source": [
    "from sklearn import cross_validation\n",
    "X_train, X_rest, y_train, y_rest = cross_validation.train_test_split(boston.data,boston.target,train_size=0.6,random_state=42)\n",
    "X_validate, X_test, y_validate, y_test = cross_validation.train_test_split(X_rest,y_rest,test_size=0.5,random_state=42)\n",
    "print X_train.shape, X_validate.shape ,X_test.shape"
   ]
  },
  {
   "cell_type": "code",
   "execution_count": null,
   "metadata": {
    "collapsed": true
   },
   "outputs": [],
   "source": [
    "# Vaše rješenje..."
   ]
  },
  {
   "cell_type": "markdown",
   "metadata": {},
   "source": [
    "**Q:** Koliko značajki ima svaki od modela koji ste isprobali?\n",
    "\n",
    "**Q:** Koliko je zapravo dobar model koji ste trenirali? Bi li model bio dovoljno dobar za stvarnu uporabu? Možete li to odlučiti na temelju mjere srednjeg kvadratnog odstupanja, ili bi neki drugi pokazatelj bio korisniji?\n",
    "\n",
    "**Q:** Provjerite točnost odabranog modela na (1) skupu za učenje, (2) skupu za provjeru, (3) uniji ta dva skupa i (4) skupu za ispitivanje. Jesu li odnosi između točnosti modela na ova četiri skupa očekivana? Obrazložite.\n",
    "\n",
    "**Q:** Kod treniranja regresijskog modela moguće je postaviti `fit_intercept=False`, čime se izbjegava optimiranje težine $w_0$. Trenirajte odabrani model s tom postavkom. Usporedite s točnošću optimalnog modela. Je li rezultat očekivan? Obrazložite. Ima li predobrada značajki ikakvog utjecaja na ovu razliku?"
   ]
  },
  {
   "cell_type": "markdown",
   "metadata": {},
   "source": [
    "### (b)"
   ]
  },
  {
   "cell_type": "markdown",
   "metadata": {},
   "source": [
    "Magnitude težina $w_i$ upućuju na važnost odgovarajućih značajki $x_i$ u modelu. Načinite jednostavnu analizu značajki tako da ispišete rang-liste značajki s obzirom na težine. Analizu provedite nad modelom koji se u prethodnome zadatku pokazao optimalnim, tj. nad modelom koji ste u konačnici ispitivali."
   ]
  },
  {
   "cell_type": "code",
   "execution_count": null,
   "metadata": {
    "collapsed": true
   },
   "outputs": [],
   "source": [
    "# Vaše rješenje..."
   ]
  },
  {
   "cell_type": "markdown",
   "metadata": {},
   "source": [
    "**Q**: Koje su top-3 značajke modela? Je li to očekivano? Obrazložite.\n",
    "\n",
    "**Q**: Kakve rezultate očekujete da biste dobili kada biste model trenirali samo s tih prvih tri značajki?"
   ]
  },
  {
   "cell_type": "markdown",
   "metadata": {},
   "source": [
    "### 8. Linearna regresija kao klasifikator\n",
    "\n",
    "U nastavku vježbe bavimo se problemom **klasifikacije**.\n",
    "\n",
    "Klasifikacijske algoritme analizirat ćemo na skupu podataka `seven`, linearno odvojivom skupu podataka od $N=7$ primjera u $n=2$ dimenzije:"
   ]
  },
  {
   "cell_type": "code",
   "execution_count": null,
   "metadata": {
    "collapsed": false
   },
   "outputs": [],
   "source": [
    "seven_X = sp.array([[2,1],[2,3],[1,2],[3,2],[5,2],[5,4],[6,3]])\n",
    "seven_y = sp.array([1,1,1,1,-1,-1,-1])"
   ]
  },
  {
   "cell_type": "markdown",
   "metadata": {},
   "source": [
    "Funkcija za vizualizaciju skupa podataka i granice između klasa (ako je zadana funkcija predikcije `h`):"
   ]
  },
  {
   "cell_type": "code",
   "execution_count": null,
   "metadata": {
    "collapsed": false
   },
   "outputs": [],
   "source": [
    "def plot_problem(X, y, h=None, surfaces=True) :\n",
    "    '''\n",
    "    Plots a two-dimensional labeled dataset (X,y) and, if function h(x) is given, \n",
    "    the decision boundaries (surfaces=False) or decision surfaces (surfaces=True)\n",
    "    '''\n",
    "    assert X.shape[1] == 2, \"Dataset is not two-dimensional\"\n",
    "    if h!=None : \n",
    "        # Create a mesh to plot in\n",
    "        r = 0.02  # mesh resolution\n",
    "        x_min, x_max = X[:, 0].min() - 1, X[:, 0].max() + 1\n",
    "        y_min, y_max = X[:, 1].min() - 1, X[:, 1].max() + 1\n",
    "        xx, yy = np.meshgrid(np.arange(x_min, x_max, r),\n",
    "                             np.arange(y_min, y_max, r))\n",
    "        XX=np.c_[xx.ravel(), yy.ravel()]\n",
    "        try:\n",
    "            Z_test = h(XX)\n",
    "            if shape(Z_test) == () :\n",
    "                # h returns a scalar when applied to a matrix; map explicitly\n",
    "                Z = sp.array(map(h,XX))\n",
    "            else :\n",
    "                Z = Z_test\n",
    "        except ValueError:\n",
    "            # can't apply to a matrix; map explicitly\n",
    "            Z = sp.array(map(h,XX))\n",
    "        # Put the result into a color plot\n",
    "        Z = Z.reshape(xx.shape)\n",
    "        if surfaces :\n",
    "            plt.contourf(xx, yy, Z, cmap=plt.cm.Pastel1)\n",
    "        else :\n",
    "            plt.contour(xx, yy, Z)\n",
    "    # Plot the dataset\n",
    "    scatter(X[:,0],X[:,1],c=y, cmap=plt.cm.Paired,marker='o',s=50);\n"
   ]
  },
  {
   "cell_type": "code",
   "execution_count": null,
   "metadata": {
    "collapsed": false
   },
   "outputs": [],
   "source": [
    "plot_problem(seven_X,seven_y)"
   ]
  },
  {
   "cell_type": "markdown",
   "metadata": {},
   "source": [
    "Linearna regresija može se upotrijebiti za klasifikaciju tako da se nauči funkcija $f(\\mathbf{x})=+1$ za pozitivne primjere i $f(\\mathbf{x})=-1$ za negativne primjere. Granica između klasa u tom slučaju bit će funkcija $h(\\mathbf{x})=0$, tj. primjeri za koje $h(\\mathbf{x})\\geq 0$ klasificiraju se kao pozitivni, a ostali kao negativni.  \n",
    "\n",
    "### (a)\n",
    "\n",
    "Trenirajte model [`LinearRegression`](http://scikit-learn.org/stable/modules/generated/sklearn.linear_model.LinearRegression.html) na skupu `seven`, ispišite težine modela te prikažite primjere i granicu između klasa. Funkciju za predikciju, koju predajete kao treći argument funkcije `plot_problem`, možete definirati lambda-izrazom: `lambda x : model.predict(x) >= 0`."
   ]
  },
  {
   "cell_type": "code",
   "execution_count": null,
   "metadata": {
    "collapsed": false
   },
   "outputs": [],
   "source": [
    "from sklearn.linear_model import LinearRegression\n",
    "\n",
    "linReg = LinearRegression()\n",
    "linReg.fit(seven_X, seven_y)\n",
    "print linReg.coef_\n",
    "print linReg.intercept_\n",
    "plot_problem(seven_X, seven_y, h=lambda x : linReg.predict(x) >= 0)"
   ]
  },
  {
   "cell_type": "markdown",
   "metadata": {},
   "source": [
    "**Q:** Ako bismo kao oznake umjesto $\\{+1,-1\\}$ koristili $\\{1,0\\}$, kako biste izračunali granicu između klasa?"
   ]
  },
  {
   "cell_type": "markdown",
   "metadata": {},
   "source": [
    "Klasifikacija pomoću linearne regresije implementirana je u klasi [`RidgeClassifier`](http://scikit-learn.org/stable/modules/generated/sklearn.linear_model.RidgeClassifier.html). Pokažite da ta implementacija daje iste rezultate na skupu `seven` (pritom isključite regularizaciju, tj. postavite `alpha=0`)."
   ]
  },
  {
   "cell_type": "code",
   "execution_count": null,
   "metadata": {
    "collapsed": false
   },
   "outputs": [],
   "source": [
    "from sklearn.linear_model import RidgeClassifier\n",
    "\n",
    "ridge = RidgeClassifier(alpha=0)\n",
    "ridge.fit(seven_X, seven_y)\n",
    "print ridge.coef_\n",
    "print ridge.intercept_\n",
    "plot_problem(seven_X, seven_y, h=lambda x : ridge.predict(x) >= 0)"
   ]
  },
  {
   "cell_type": "markdown",
   "metadata": {},
   "source": [
    "### (b)"
   ]
  },
  {
   "cell_type": "markdown",
   "metadata": {},
   "source": [
    "Trenirajte klasifikacijski model `RidgeClassifier` na sljedećem skupu podataka (skup `seven` proširen jednim primjerom):"
   ]
  },
  {
   "cell_type": "code",
   "execution_count": null,
   "metadata": {
    "collapsed": false
   },
   "outputs": [],
   "source": [
    "X2 = sp.append(seven_X,[[2,2]],axis=0)\n",
    "y2 = sp.append(seven_y,-1)"
   ]
  },
  {
   "cell_type": "markdown",
   "metadata": {},
   "source": [
    "Prikažite granicu između klasa te izračunajte točnost modela (možete koristiti funkciju [`metrics.accuracy_score`](http://scikit-learn.org/stable/modules/generated/sklearn.metrics.accuracy_score.html))."
   ]
  },
  {
   "cell_type": "code",
   "execution_count": null,
   "metadata": {
    "collapsed": false
   },
   "outputs": [],
   "source": [
    "from sklearn.metrics import accuracy_score\n",
    "\n",
    "ridge = RidgeClassifier(alpha=0)\n",
    "ridge.fit(X2, y2)\n",
    "plot_problem(X2, y2, h=lambda x : ridge.predict(x) >= 0)\n",
    "print \"Acc =\"\n",
    "print accuracy_score(y2, ridge.predict(X2))"
   ]
  },
  {
   "cell_type": "markdown",
   "metadata": {},
   "source": [
    "**Q:** Koliko iznosi točnost modela? Objasnite zašto model ne ostvaruje potpunu točnost. Je li problem u skupu podataka ili u modelu?"
   ]
  },
  {
   "cell_type": "markdown",
   "metadata": {},
   "source": [
    "### (c)"
   ]
  },
  {
   "cell_type": "markdown",
   "metadata": {},
   "source": [
    "Trenirajte klasifikacijski model `RidgeClassifier` na sljedećem skupu podataka (skup `seven` proširen jednim primjerom):"
   ]
  },
  {
   "cell_type": "code",
   "execution_count": null,
   "metadata": {
    "collapsed": false
   },
   "outputs": [],
   "source": [
    "X3 = sp.append(seven_X,[[12,8]],axis=0)\n",
    "y3 = sp.append(seven_y,-1)"
   ]
  },
  {
   "cell_type": "markdown",
   "metadata": {},
   "source": [
    "Prikažite granicu između klasa te izračunajte točnost modela."
   ]
  },
  {
   "cell_type": "code",
   "execution_count": null,
   "metadata": {
    "collapsed": false
   },
   "outputs": [],
   "source": [
    "\n",
    "ridge = RidgeClassifier(alpha=0)\n",
    "ridge.fit(X3, y3)\n",
    "plot_problem(X3, y3, h=lambda x : ridge.predict(x) >= 0)\n",
    "print \"Acc =\"\n",
    "print accuracy_score(y3, ridge.predict(X3))"
   ]
  },
  {
   "cell_type": "markdown",
   "metadata": {},
   "source": [
    "**Q:** Koliko iznosi točnost modela? Objasnite zašto model ne ostvaruje potpunu točnost. Je li problem u skupu podataka ili u modelu?"
   ]
  },
  {
   "cell_type": "markdown",
   "metadata": {},
   "source": [
    "### 9. Višeklasna klasifikacija"
   ]
  },
  {
   "cell_type": "markdown",
   "metadata": {},
   "source": [
    "Postoji više načina kako se binarni klasifikatori mogu se upotrijebiti za višeklasnu klasifikaciju. Najčešće se koristi shema tzv. **jedan-naspram-ostali** (engl. *one-vs-rest*, OVR), u kojoj se trenira po jedan klasifikator $h_j$ za svaku od $K$ klasa. Svaki klasifikator $h_j$ trenira se da razdvaja primjere klase $j$ od primjera svih drugih klasa, a primjer se klasificira u klasu $j$ za koju je $h_j(\\mathbf{x})$ maksimalan.\n",
    "\n",
    "Pomoću funkcije [`datasets.make_classification`](http://scikit-learn.org/stable/modules/generated/sklearn.datasets.make_classification.html) generirajte slučajan skup podataka od tri klase:"
   ]
  },
  {
   "cell_type": "code",
   "execution_count": null,
   "metadata": {
    "collapsed": false
   },
   "outputs": [],
   "source": [
    "from sklearn.datasets import make_classification\n",
    "\n",
    "X, y = make_classification(n_features=2, n_redundant=0, n_informative=2, n_clusters_per_class=1, n_classes=3)"
   ]
  },
  {
   "cell_type": "markdown",
   "metadata": {},
   "source": [
    "Trenirajte tri binarna klasifikatora, $h_1$, $h_2$ i $h_3$ te prikažite granice između klasa (tri grafikona). Zatim definirajte $h(\\mathbf{x})=\\mathrm{argmax}_j h_j(\\mathbf{x})$ i prikažite granice između klasa za taj model. Zatim se uvjerite da biste identičan rezultat dobili izravno primjenom modela `RidgeClassifier`, budući da taj model za višeklasan problem zapravo interno implementira shemu jedan-naspram-ostali."
   ]
  },
  {
   "cell_type": "code",
   "execution_count": null,
   "metadata": {
    "collapsed": false
   },
   "outputs": [],
   "source": [
    "def binaryLabels(y, c):\n",
    "    cs = []\n",
    "    for yi in y:\n",
    "        if (yi == c):\n",
    "            cs.append(1)\n",
    "        else:\n",
    "            cs.append(-1)\n",
    "    return cs\n",
    "\n",
    "y0 = binaryLabels(y, 0)\n",
    "y1 = binaryLabels(y, 1)\n",
    "y2 = binaryLabels(y, 2)\n",
    "\n",
    "ridge0 = RidgeClassifier(alpha=0)\n",
    "ridge0.fit(X, y0)\n",
    "\n",
    "ridge1 = RidgeClassifier(alpha=0)\n",
    "ridge1.fit(X, y1)\n",
    "\n",
    "ridge2 = RidgeClassifier(alpha=0)\n",
    "ridge2.fit(X, y2)\n",
    "\n",
    "def argmaxH(H, x):\n",
    "    first = True\n",
    "    i = 0\n",
    "    for h in H:\n",
    "        if (first):\n",
    "            first = False\n",
    "            maxH = h(x)\n",
    "            maxClass = i\n",
    "        else:\n",
    "            if(maxH < h(x)):\n",
    "                maxH = h(x)\n",
    "                maxClass = i\n",
    "        i = i + 1\n",
    "    return maxClass\n",
    "\n",
    "H = [ridge0.decision_function,ridge1.decision_function,ridge2.decision_function]\n",
    "out = []\n",
    "\n",
    "for x in X:\n",
    "    out.append(argmaxH(H, x))\n",
    "    \n",
    "print(\"Acc =\")\n",
    "print(accuracy_score(y, out))\n",
    "\n",
    "\n",
    "rridge = RidgeClassifier(alpha=0)\n",
    "rridge.fit(X, y)\n",
    "print(\"Acc =\")\n",
    "print(accuracy_score(y, rridge.predict(X)))\n",
    "\n",
    "plt.figure(figsize=(5,10))\n",
    "plt.subplot(311)\n",
    "plot_problem(X, y, h=lambda x : ridge0.predict(x) >= 0)\n",
    "plt.subplot(312)\n",
    "plot_problem(X, y, h=lambda x : ridge1.predict(x) >= 0)\n",
    "plt.subplot(313)\n",
    "plot_problem(X, y, h=lambda x : ridge2.predict(x) >= 0)"
   ]
  },
  {
   "cell_type": "markdown",
   "metadata": {},
   "source": [
    "**Q4:** Alternativna shema je one-vs-one (OVO). Koja je prednost sheme OVR nad shemom OVO?"
   ]
  },
  {
   "cell_type": "markdown",
   "metadata": {},
   "source": [
    "### 10. Perceptron"
   ]
  },
  {
   "cell_type": "markdown",
   "metadata": {},
   "source": [
    "Perceptron je implementiran klasom [`linear_model.Perceptron`](http://scikit-learn.org/stable/modules/generated/sklearn.linear_model.Perceptron.html). Trenirajte perceptron na skupu `seven` iz zadatka 8a i prikažite granicu između klasa. Uvjerite se da rezultat ovisi o redoslijedu primjera u skupu za učenje (postavite `shuffle=True` i mijenjajte parametar `random_state`). Zatim trenirajte perceptron na dvama varijantima skupa `seven` iz zadataka 8b i 8c te prikažite opet granice između klasa.\n",
    "\n",
    "**NB:** Obratite pozornost na broj iteracija algoritma (parametar `n_iter`)."
   ]
  },
  {
   "cell_type": "code",
   "execution_count": null,
   "metadata": {
    "collapsed": false
   },
   "outputs": [],
   "source": [
    "from sklearn.linear_model import Perceptron\n",
    "\n",
    "seven_X = sp.array([[2,1],[2,3],[1,2],[3,2],[5,2],[5,4],[6,3]])\n",
    "seven_y = sp.array([1,1,1,1,-1,-1,-1])\n",
    "\n",
    "X2 = sp.append(seven_X,[[2,2]],axis=0)\n",
    "y2 = sp.append(seven_y,-1)\n",
    "\n",
    "X3 = sp.append(seven_X,[[12,8]],axis=0)\n",
    "y3 = sp.append(seven_y,-1)\n",
    "\n",
    "perc = Perceptron(random_state=0, n_iter=20, shuffle=True)\n",
    "\n",
    "plt.figure(figsize=(5,10))\n",
    "plt.subplot(311)\n",
    "perc.fit(seven_X, seven_y)\n",
    "plot_problem(seven_X, seven_y, h=lambda x : perc.predict(x) >= 0)\n",
    "plt.subplot(312)\n",
    "perc.fit(X2, y2)\n",
    "plot_problem(X2, y2, h=lambda x : perc.predict(x) >= 0)\n",
    "plt.subplot(313)\n",
    "perc.fit(X3, y3)\n",
    "plot_problem(X3, y3, h=lambda x : perc.predict(x) >= 0)"
   ]
  },
  {
   "cell_type": "markdown",
   "metadata": {},
   "source": [
    "**Q:** Komentirajte razlike u rezultatima dobivenima na skupu `seven` i na dvije njegove varijante."
   ]
  }
 ],
 "metadata": {
  "kernelspec": {
   "display_name": "Python 2",
   "language": "python2",
   "name": "python2"
  },
  "language_info": {
   "codemirror_mode": {
    "name": "ipython",
    "version": 2
   },
   "file_extension": ".py",
   "mimetype": "text/x-python",
   "name": "python",
   "nbconvert_exporter": "python",
   "pygments_lexer": "ipython2",
   "version": "2.7.10"
  }
 },
 "nbformat": 4,
 "nbformat_minor": 0
}
