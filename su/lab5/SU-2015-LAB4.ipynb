version https://git-lfs.github.com/spec/v1
oid sha256:61eefa688fc561fcf5dc5b586d7690ddb7537013ac2dc0164e919cb9ec1bcd81
size 231293
